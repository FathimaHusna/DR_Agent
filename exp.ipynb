{
 "cells": [
  {
   "cell_type": "code",
   "execution_count": 1,
   "id": "c9623a44",
   "metadata": {},
   "outputs": [
    {
     "name": "stderr",
     "output_type": "stream",
     "text": [
      "/home/fathimahusna/DR_Agent/dr_env/lib/python3.11/site-packages/tqdm/auto.py:21: TqdmWarning: IProgress not found. Please update jupyter and ipywidgets. See https://ipywidgets.readthedocs.io/en/stable/user_install.html\n",
      "  from .autonotebook import tqdm as notebook_tqdm\n"
     ]
    }
   ],
   "source": [
    "import os\n",
    "import google.generativeai as genai\n",
    "from dotenv import load_dotenv\n",
    "from prompts import build_prompt\n",
    "\n",
    "load_dotenv()\n",
    "genai.configure(api_key=os.getenv(\"GEMINI_API_KEY\"))\n",
    "\n",
    "model = genai.GenerativeModel(\"models/gemini-1.5-flash-latest\")\n"
   ]
  },
  {
   "cell_type": "code",
   "execution_count": 2,
   "id": "edd2d997",
   "metadata": {},
   "outputs": [],
   "source": [
    "def run_profile_agent(role, experience, skills, rate):\n",
    "    prompt = build_prompt(role, experience, skills, rate)\n",
    "    response = model.generate_content(prompt)\n",
    "    return response.text.strip()"
   ]
  },
  {
   "cell_type": "code",
   "execution_count": 15,
   "id": "7b8ea4af",
   "metadata": {},
   "outputs": [],
   "source": [
    "def build_prompt(role, experience, skills, rate):\n",
    "    return f\"\"\"\n",
    "You are an expert Upwork freelancer.\n",
    "\n",
    "Create a professional Upwork profile for a {role} with {experience} of experience.\n",
    "Mention the following core skills: {', '.join(skills)}.\n",
    "The hourly rate must be included as a string like \"{rate}\" with a \"$\" symbol and \"/hr\".\n",
    "\n",
    "Return ONLY a JSON object with these fields:\n",
    "- title (string)\n",
    "- overview (string)\n",
    "- skills (list of strings)\n",
    "- hourly_rate (string formatted like \"$15/hr\")\n",
    "- profile_tips (list of 3–5 strings)\n",
    "\n",
    "Respond with valid JSON only. No markdown, no explanations.\n",
    "\"\"\"\n",
    "\n"
   ]
  },
  {
   "cell_type": "code",
   "execution_count": 7,
   "id": "acc27cfe",
   "metadata": {},
   "outputs": [],
   "source": [
    "from pydantic import BaseModel\n",
    "from typing import List\n",
    "\n",
    "class UpworkProfile(BaseModel):\n",
    "    title: str\n",
    "    overview: str\n",
    "    skills: List[str]\n",
    "    hourly_rate: str\n",
    "    profile_tips: List[str]"
   ]
  },
  {
   "cell_type": "code",
   "execution_count": 19,
   "id": "092dcfbb",
   "metadata": {},
   "outputs": [
    {
     "name": "stdout",
     "output_type": "stream",
     "text": [
      "❌ Validation error: Expecting value: line 1 column 1 (char 0)\n",
      "\n",
      "Raw Output:\n",
      " ```json\n",
      "{\n",
      "  \"title\": \"Python Developer | Selenium & Web Scraping Automation Expert\",\n",
      "  \"overview\": \"Highly motivated and results-oriented Python developer with 2 years of experience in building robust and efficient automation solutions.  Proficient in Selenium for web testing and automation, and experienced in crafting effective web scraping tools for data extraction.  I possess a strong understanding of Python programming principles, data structures, and algorithms. My focus is on delivering high-quality, well-documented code that meets client requirements and exceeds expectations. I am adept at working independently and collaboratively in fast-paced environments, and I am eager to contribute my skills to your project.\",\n",
      "  \"skills\": [\"Python\", \"Selenium\", \"Web Scraping\", \"Beautiful Soup\", \"Scrapy\", \"Automation\", \"Testing\", \"Data Extraction\", \"API Integration\", \"REST APIs\", \"Git\", \"Agile\"],\n",
      "  \"hourly_rate\": 15,\n",
      "  \"profile_tips\": [\"Add a professional headshot to your profile.\", \"Showcase completed projects with quantifiable results (e.g., 'Automated 100+ tasks daily, resulting in a 20% increase in efficiency').\", \"Include client testimonials or reviews.\", \"Highlight specific libraries and frameworks used beyond core skills (e.g., Requests, Pandas).\", \"Use keywords relevant to your expertise in your profile description.\"]\n",
      "}\n",
      "```\n"
     ]
    }
   ],
   "source": [
    "import json\n",
    "from schema import UpworkProfile\n",
    "from agent import run_profile_agent\n",
    "\n",
    "def main():\n",
    "    role = \"Python Developer\"\n",
    "    experience = \"2 years\"\n",
    "    skills = [\"Selenium\", \"Web Scraping\", \"Automation\"]\n",
    "    rate = \"$15/hr\"\n",
    "\n",
    "    raw_output = run_profile_agent(role, experience, skills, rate)\n",
    "\n",
    "    try:\n",
    "        parsed = json.loads(raw_output)\n",
    "        profile = UpworkProfile(**parsed)\n",
    "        print(\"✅ Valid profile generated:\\n\")\n",
    "        print(profile.json(indent=2))\n",
    "    except Exception as e:\n",
    "        print(\"❌ Validation error:\", e)\n",
    "        print(\"\\nRaw Output:\\n\", raw_output)\n",
    "\n",
    "if __name__ == \"__main__\":\n",
    "    main()\n"
   ]
  },
  {
   "cell_type": "code",
   "execution_count": null,
   "id": "0de1ca94",
   "metadata": {},
   "outputs": [],
   "source": []
  },
  {
   "cell_type": "code",
   "execution_count": null,
   "id": "90a05a4b",
   "metadata": {},
   "outputs": [],
   "source": []
  }
 ],
 "metadata": {
  "kernelspec": {
   "display_name": "dr_env",
   "language": "python",
   "name": "python3"
  },
  "language_info": {
   "codemirror_mode": {
    "name": "ipython",
    "version": 3
   },
   "file_extension": ".py",
   "mimetype": "text/x-python",
   "name": "python",
   "nbconvert_exporter": "python",
   "pygments_lexer": "ipython3",
   "version": "3.11.7"
  }
 },
 "nbformat": 4,
 "nbformat_minor": 5
}
