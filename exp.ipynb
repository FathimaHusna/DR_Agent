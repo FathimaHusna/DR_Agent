{
 "cells": [
  {
   "cell_type": "code",
   "execution_count": 1,
   "id": "c9623a44",
   "metadata": {},
   "outputs": [
    {
     "name": "stderr",
     "output_type": "stream",
     "text": [
      "/home/fathimahusna/DR_Agent/dr_env/lib/python3.11/site-packages/tqdm/auto.py:21: TqdmWarning: IProgress not found. Please update jupyter and ipywidgets. See https://ipywidgets.readthedocs.io/en/stable/user_install.html\n",
      "  from .autonotebook import tqdm as notebook_tqdm\n"
     ]
    }
   ],
   "source": [
    "import os\n",
    "import google.generativeai as genai\n",
    "from dotenv import load_dotenv\n",
    "from prompts import build_prompt\n",
    "\n",
    "load_dotenv()\n",
    "genai.configure(api_key=os.getenv(\"GEMINI_API_KEY\"))\n",
    "\n",
    "model = genai.GenerativeModel(\"models/gemini-1.5-flash-latest\")\n"
   ]
  },
  {
   "cell_type": "code",
   "execution_count": 2,
   "id": "edd2d997",
   "metadata": {},
   "outputs": [],
   "source": [
    "def run_profile_agent(role, experience, skills, rate, tone):\n",
    "    prompt = build_prompt(role, experience, skills, rate, tone)\n",
    "    response = model.generate_content(prompt)\n",
    "    return response.text.strip()"
   ]
  },
  {
   "cell_type": "code",
   "execution_count": 3,
   "id": "7b8ea4af",
   "metadata": {},
   "outputs": [],
   "source": [
    "def build_prompt(role, experience, skills, rate, tone):\n",
    "    return f\"\"\"\n",
    "You are an expert Upwork freelancer.\n",
    "\n",
    "Create a professional Upwork profile for a {role} with {experience} of experience.\n",
    "Mention the following core skills: {', '.join(skills)}.\n",
    "The hourly rate must be included as a string like \"{rate}\" with a \"$\" symbol and \"/hr\".\n",
    "Write the profile in a {tone.lower()} tone.\n",
    "\n",
    "Return ONLY a JSON object with these fields:\n",
    "- title (string)\n",
    "- overview (string)\n",
    "- skills (list of strings)\n",
    "- hourly_rate (string formatted like \"$15/hr\")\n",
    "- profile_tips (list of 3–5 strings)\n",
    "\n",
    "Respond with valid JSON only. No markdown, no explanations.\n",
    "\"\"\""
   ]
  },
  {
   "cell_type": "code",
   "execution_count": 4,
   "id": "acc27cfe",
   "metadata": {},
   "outputs": [],
   "source": [
    "from pydantic import BaseModel\n",
    "from typing import List\n",
    "\n",
    "class UpworkProfile(BaseModel):\n",
    "    title: str\n",
    "    overview: str\n",
    "    skills: List[str]\n",
    "    hourly_rate: str\n",
    "    profile_tips: List[str]\n"
   ]
  },
  {
   "cell_type": "code",
   "execution_count": 5,
   "id": "092dcfbb",
   "metadata": {},
   "outputs": [
    {
     "name": "stdout",
     "output_type": "stream",
     "text": [
      "✅ Valid profile generated:\n",
      "\n",
      "{\n",
      "  \"title\": \"Experienced Python Developer | Selenium, Web Scraping & Automation Expert\",\n",
      "  \"overview\": \"Highly proficient Python developer with 2 years of experience in building robust and efficient automation solutions.  My expertise lies in leveraging Selenium for browser automation, crafting sophisticated web scraping tools, and developing custom automation scripts to streamline workflows. I'm adept at working independently and collaboratively, consistently delivering high-quality results that meet and exceed client expectations.  I possess a strong understanding of software development best practices, including version control (Git), testing, and debugging.  I'm eager to contribute my skills and experience to your next project.\",\n",
      "  \"skills\": [\n",
      "    \"Python\",\n",
      "    \"Selenium\",\n",
      "    \"Web Scraping\",\n",
      "    \"Automation\",\n",
      "    \"Beautiful Soup\",\n",
      "    \"Scrapy\",\n",
      "    \"API Integration\",\n",
      "    \"REST APIs\",\n",
      "    \"Git\",\n",
      "    \"Agile\",\n",
      "    \"Testing\",\n",
      "    \"Debugging\",\n",
      "    \"Problem-solving\"\n",
      "  ],\n",
      "  \"hourly_rate\": \"($35/hr,)\",\n",
      "  \"profile_tips\": [\n",
      "    \"Showcase your best projects and highlight quantifiable results.\",\n",
      "    \"Clearly outline your expertise in Selenium, Web Scraping, and Automation.\",\n",
      "    \"Maintain a professional and up-to-date profile with a recent profile picture.\"\n",
      "  ]\n",
      "}\n"
     ]
    }
   ],
   "source": [
    "import json\n",
    "import re\n",
    "from schema import UpworkProfile\n",
    "from agent import run_profile_agent\n",
    "\n",
    "def extract_json(text):\n",
    "    \"\"\"Extracts the first JSON object from raw Gemini output (removes markdown, etc.)\"\"\"\n",
    "    match = re.search(r\"\\{.*\\}\", text, re.DOTALL)\n",
    "    return match.group(0) if match else None\n",
    "\n",
    "def main():\n",
    "    role = \"Python Developer\"\n",
    "    experience = \"2 years\"\n",
    "    skills = [\"Selenium\", \"Web Scraping\", \"Automation\"]\n",
    "    rate = \"$15/hr\",\n",
    "    tone = \"Professional\"\n",
    "\n",
    "    raw_output = run_profile_agent(role, experience, skills, rate, tone)\n",
    "    cleaned_output = extract_json(raw_output)\n",
    "\n",
    "    if not cleaned_output:\n",
    "        print(\"❌ Failed to extract JSON from output.\")\n",
    "        print(\"Raw Output:\\n\", raw_output)\n",
    "        return\n",
    "\n",
    "    try:\n",
    "        parsed = json.loads(cleaned_output)\n",
    "\n",
    "        # Auto-correct hourly_rate if it's numeric\n",
    "        if isinstance(parsed.get(\"hourly_rate\"), (int, float)):\n",
    "            parsed[\"hourly_rate\"] = f\"${parsed['hourly_rate']}/hr\"\n",
    "\n",
    "        profile = UpworkProfile(**parsed)\n",
    "        print(\"✅ Valid profile generated:\\n\")\n",
    "        print(profile.model_dump_json(indent=2))\n",
    "\n",
    "    except Exception as e:\n",
    "        print(\"❌ Validation error:\", e)\n",
    "        print(\"\\nCleaned Output:\\n\", cleaned_output)\n",
    "\n",
    "\n",
    "if __name__ == \"__main__\":\n",
    "    main()\n"
   ]
  },
  {
   "cell_type": "code",
   "execution_count": null,
   "id": "0de1ca94",
   "metadata": {},
   "outputs": [],
   "source": []
  },
  {
   "cell_type": "code",
   "execution_count": null,
   "id": "90a05a4b",
   "metadata": {},
   "outputs": [],
   "source": []
  }
 ],
 "metadata": {
  "kernelspec": {
   "display_name": "dr_env",
   "language": "python",
   "name": "python3"
  },
  "language_info": {
   "codemirror_mode": {
    "name": "ipython",
    "version": 3
   },
   "file_extension": ".py",
   "mimetype": "text/x-python",
   "name": "python",
   "nbconvert_exporter": "python",
   "pygments_lexer": "ipython3",
   "version": "3.11.7"
  }
 },
 "nbformat": 4,
 "nbformat_minor": 5
}
